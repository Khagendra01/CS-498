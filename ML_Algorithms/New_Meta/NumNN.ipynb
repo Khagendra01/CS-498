{
 "cells": [
  {
   "cell_type": "code",
   "execution_count": 6,
   "metadata": {},
   "outputs": [],
   "source": [
    "import pandas as pd\n",
    "import numpy as np\n",
    "from sklearn.model_selection import train_test_split\n",
    "from sklearn.preprocessing import StandardScaler\n",
    "from tensorflow import keras\n",
    "from sklearn.linear_model import Perceptron\n",
    "from sklearn.metrics import accuracy_score\n",
    "import matplotlib.pyplot as plt"
   ]
  },
  {
   "cell_type": "code",
   "execution_count": 7,
   "metadata": {},
   "outputs": [],
   "source": [
    "numb_x_src_path = '../../Dataset/individ/MixedDataSet.json'\n",
    "y_src_path = '../../DataBook/Mixed_Data_Analyst.xlsx'"
   ]
  },
  {
   "cell_type": "code",
   "execution_count": 8,
   "metadata": {},
   "outputs": [],
   "source": [
    "numb_data = pd.read_json(numb_x_src_path)\n",
    "numb_data = numb_data.iloc[:, :-59022]"
   ]
  },
  {
   "cell_type": "code",
   "execution_count": 9,
   "metadata": {},
   "outputs": [],
   "source": [
    "df_supervision = pd.read_excel(y_src_path)\n",
    "plagiarised_array = df_supervision['Plagiarised'].astype(int).values"
   ]
  },
  {
   "cell_type": "code",
   "execution_count": 10,
   "metadata": {},
   "outputs": [],
   "source": [
    "X_N = np.nan_to_num(numb_data.values, nan=0, copy=True).astype(int)\n",
    "y = plagiarised_array"
   ]
  },
  {
   "cell_type": "code",
   "execution_count": 11,
   "metadata": {},
   "outputs": [],
   "source": [
    "X_N_train, X_N_test, y_N_train, y_N_test = train_test_split(X_N, y, test_size=0.2, random_state=32)"
   ]
  },
  {
   "cell_type": "code",
   "execution_count": 12,
   "metadata": {},
   "outputs": [],
   "source": [
    "# scaler = StandardScaler()\n",
    "# X_N_train = scaler.fit_transform(X_N_train)\n",
    "# X_N_test = scaler.fit_transform(X_N_test)"
   ]
  },
  {
   "cell_type": "code",
   "execution_count": 13,
   "metadata": {},
   "outputs": [
    {
     "ename": "ModuleNotFoundError",
     "evalue": "No module named 'xgboost'",
     "output_type": "error",
     "traceback": [
      "\u001b[0;31m---------------------------------------------------------------------------\u001b[0m",
      "\u001b[0;31mModuleNotFoundError\u001b[0m                       Traceback (most recent call last)",
      "Cell \u001b[0;32mIn[13], line 1\u001b[0m\n\u001b[0;32m----> 1\u001b[0m \u001b[38;5;28;01mfrom\u001b[39;00m \u001b[38;5;21;01mxgboost\u001b[39;00m \u001b[38;5;28;01mimport\u001b[39;00m XGBClassifier\n\u001b[1;32m      4\u001b[0m numbP \u001b[38;5;241m=\u001b[39m XGBClassifier()\n\u001b[1;32m      5\u001b[0m numbP\u001b[38;5;241m.\u001b[39mfit(X_N_train,y_N_train)\n",
      "\u001b[0;31mModuleNotFoundError\u001b[0m: No module named 'xgboost'"
     ]
    }
   ],
   "source": [
    "from xgboost import XGBClassifier\n",
    "\n",
    "\n",
    "numbP = XGBClassifier()\n",
    "numbP.fit(X_N_train,y_N_train)\n",
    "\n",
    "percepPredict = numbP.predict(X_N_test)\n",
    "\n",
    "print(f\"Training data score: {numbP.score(X_N_train, y_N_train)}\")\n",
    "print(f\"Test data score: {numbP.score(X_N_test, y_N_test)}\")\n",
    "\n",
    "from sklearn.metrics import accuracy_score, classification_report\n",
    "y_pred = numbP.predict(X_N_test)\n",
    "accuracy = accuracy_score(y_N_test, y_pred)\n",
    "print(\"Accuracy:\", accuracy)\n",
    "print(\"Classification Report:\")\n",
    "print(classification_report(y_N_test, y_pred))\n",
    "\n",
    "unique_labels = set(y_N_test)\n",
    "for label in unique_labels:\n",
    "    indices = (y_N_test == label)\n",
    "    accuracy = accuracy_score(y_N_test[indices], percepPredict[indices])\n",
    "    print(f\"Accuracy for class {label}: {accuracy}\")"
   ]
  },
  {
   "cell_type": "code",
   "execution_count": null,
   "metadata": {},
   "outputs": [
    {
     "name": "stdout",
     "output_type": "stream",
     "text": [
      "Training data score: 1.0\n",
      "Test data score: 0.7777777777777778\n",
      "Accuracy: 0.7777777777777778\n",
      "Classification Report:\n",
      "              precision    recall  f1-score   support\n",
      "\n",
      "           0       0.83      0.91      0.87        22\n",
      "           1       0.33      0.20      0.25         5\n",
      "\n",
      "    accuracy                           0.78        27\n",
      "   macro avg       0.58      0.55      0.56        27\n",
      "weighted avg       0.74      0.78      0.75        27\n",
      "\n",
      "Accuracy for class 0: 0.9090909090909091\n",
      "Accuracy for class 1: 0.2\n"
     ]
    }
   ],
   "source": [
    "from sklearn.tree import DecisionTreeClassifier\n",
    "\n",
    "numbP = DecisionTreeClassifier()\n",
    "numbP.fit(X_N_train,y_N_train)\n",
    "\n",
    "percepPredict = numbP.predict(X_N_test)\n",
    "\n",
    "print(f\"Training data score: {numbP.score(X_N_train, y_N_train)}\")\n",
    "print(f\"Test data score: {numbP.score(X_N_test, y_N_test)}\")\n",
    "\n",
    "from sklearn.metrics import accuracy_score, classification_report\n",
    "y_pred = numbP.predict(X_N_test)\n",
    "accuracy = accuracy_score(y_N_test, y_pred)\n",
    "print(\"Accuracy:\", accuracy)\n",
    "print(\"Classification Report:\")\n",
    "print(classification_report(y_N_test, y_pred))\n",
    "\n",
    "unique_labels = set(y_N_test)\n",
    "for label in unique_labels:\n",
    "    indices = (y_N_test == label)\n",
    "    accuracy = accuracy_score(y_N_test[indices], percepPredict[indices])\n",
    "    print(f\"Accuracy for class {label}: {accuracy}\")"
   ]
  },
  {
   "cell_type": "code",
   "execution_count": null,
   "metadata": {},
   "outputs": [
    {
     "name": "stdout",
     "output_type": "stream",
     "text": [
      "Training data score: 1.0\n",
      "Test data score: 0.9259259259259259\n",
      "Accuracy: 0.9259259259259259\n",
      "Classification Report:\n",
      "              precision    recall  f1-score   support\n",
      "\n",
      "           0       0.95      0.95      0.95        22\n",
      "           1       0.80      0.80      0.80         5\n",
      "\n",
      "    accuracy                           0.93        27\n",
      "   macro avg       0.88      0.88      0.88        27\n",
      "weighted avg       0.93      0.93      0.93        27\n",
      "\n",
      "Accuracy for class 0: 0.9545454545454546\n",
      "Accuracy for class 1: 0.8\n"
     ]
    }
   ],
   "source": [
    "from sklearn.linear_model import LogisticRegression\n",
    "\n",
    "numbP = LogisticRegression(max_iter=100000)\n",
    "numbP.fit(X_N_train,y_N_train)\n",
    "\n",
    "percepPredict = numbP.predict(X_N_test)\n",
    "\n",
    "print(f\"Training data score: {numbP.score(X_N_train, y_N_train)}\")\n",
    "print(f\"Test data score: {numbP.score(X_N_test, y_N_test)}\")\n",
    "\n",
    "from sklearn.metrics import accuracy_score, classification_report\n",
    "y_pred = numbP.predict(X_N_test)\n",
    "accuracy = accuracy_score(y_N_test, y_pred)\n",
    "print(\"Accuracy:\", accuracy)\n",
    "print(\"Classification Report:\")\n",
    "print(classification_report(y_N_test, y_pred))\n",
    "\n",
    "unique_labels = set(y_N_test)\n",
    "for label in unique_labels:\n",
    "    indices = (y_N_test == label)\n",
    "    accuracy = accuracy_score(y_N_test[indices], percepPredict[indices])\n",
    "    print(f\"Accuracy for class {label}: {accuracy}\")"
   ]
  },
  {
   "cell_type": "code",
   "execution_count": null,
   "metadata": {},
   "outputs": [
    {
     "name": "stdout",
     "output_type": "stream",
     "text": [
      "Epoch 1/10\n",
      "4/4 [==============================] - 1s 47ms/step - loss: 1168.8022 - accuracy: 0.6698 - val_loss: 98.8418 - val_accuracy: 0.7407\n",
      "Epoch 2/10\n",
      "4/4 [==============================] - 0s 14ms/step - loss: 529.8560 - accuracy: 0.7642 - val_loss: 1659.5243 - val_accuracy: 0.4444\n",
      "Epoch 3/10\n",
      "4/4 [==============================] - 0s 14ms/step - loss: 822.3610 - accuracy: 0.7453 - val_loss: 331.1096 - val_accuracy: 0.8148\n",
      "Epoch 4/10\n",
      "4/4 [==============================] - 0s 12ms/step - loss: 720.6300 - accuracy: 0.8774 - val_loss: 170.0791 - val_accuracy: 0.8889\n",
      "Epoch 5/10\n",
      "4/4 [==============================] - 0s 11ms/step - loss: 148.7280 - accuracy: 0.7925 - val_loss: 69.6192 - val_accuracy: 0.8889\n",
      "Epoch 6/10\n",
      "4/4 [==============================] - 0s 13ms/step - loss: 231.5320 - accuracy: 0.7547 - val_loss: 97.4405 - val_accuracy: 0.9259\n",
      "Epoch 7/10\n",
      "4/4 [==============================] - 0s 12ms/step - loss: 291.3207 - accuracy: 0.8868 - val_loss: 204.0920 - val_accuracy: 0.9630\n",
      "Epoch 8/10\n",
      "4/4 [==============================] - 0s 12ms/step - loss: 274.7171 - accuracy: 0.9151 - val_loss: 925.3567 - val_accuracy: 0.5926\n",
      "Epoch 9/10\n",
      "4/4 [==============================] - 0s 12ms/step - loss: 450.9131 - accuracy: 0.7642 - val_loss: 209.3858 - val_accuracy: 0.9630\n",
      "Epoch 10/10\n",
      "4/4 [==============================] - 0s 12ms/step - loss: 592.4773 - accuracy: 0.9057 - val_loss: 108.8563 - val_accuracy: 0.9630\n",
      "1/1 [==============================] - 0s 47ms/step\n"
     ]
    }
   ],
   "source": [
    "NPH = 32\n",
    "numb_model = keras.models.Sequential([\n",
    "    keras.layers.Input(shape=(16689,)),\n",
    "    keras.layers.Dense(NPH, activation='relu'),\n",
    "    keras.layers.Dense(NPH, activation='relu'),\n",
    "    keras.layers.Dense(NPH, activation='relu'),\n",
    "    keras.layers.Dense(1, activation='sigmoid')\n",
    "])\n",
    "\n",
    "LOSS_FN = keras.losses.BinaryCrossentropy()\n",
    "\n",
    "numb_model.compile(optimizer='adam', loss=LOSS_FN, metrics=['accuracy'])\n",
    "\n",
    "history = numb_model.fit(X_N_train, y_N_train, epochs=10, validation_data=(X_N_test, y_N_test))\n",
    "\n",
    "y_pred_numb_binary_flat = (numb_model.predict(X_N_test).flatten() > 0.5).astype(int)"
   ]
  },
  {
   "cell_type": "code",
   "execution_count": null,
   "metadata": {},
   "outputs": [
    {
     "name": "stdout",
     "output_type": "stream",
     "text": [
      "Accuracy: 0.9629629629629629\n",
      "Classification Report:\n",
      "              precision    recall  f1-score   support\n",
      "\n",
      "           0       0.96      1.00      0.98        22\n",
      "           1       1.00      0.80      0.89         5\n",
      "\n",
      "    accuracy                           0.96        27\n",
      "   macro avg       0.98      0.90      0.93        27\n",
      "weighted avg       0.96      0.96      0.96        27\n",
      "\n",
      "Accuracy for class 0: 1.0\n",
      "Accuracy for class 1: 0.8\n"
     ]
    }
   ],
   "source": [
    "from sklearn.metrics import accuracy_score, classification_report\n",
    "\n",
    "accuracy = accuracy_score(y_N_test, y_pred_numb_binary_flat)\n",
    "print(\"Accuracy:\", accuracy)\n",
    "print(\"Classification Report:\")\n",
    "print(classification_report(y_N_test, y_pred_numb_binary_flat))\n",
    "\n",
    "unique_labels = set(y_N_test)\n",
    "for label in unique_labels:\n",
    "    indices = (y_N_test == label)\n",
    "    accuracy = accuracy_score(y_N_test[indices], y_pred_numb_binary_flat[indices])\n",
    "    print(f\"Accuracy for class {label}: {accuracy}\")"
   ]
  },
  {
   "cell_type": "code",
   "execution_count": null,
   "metadata": {},
   "outputs": [
    {
     "name": "stderr",
     "output_type": "stream",
     "text": [
      "c:\\Users\\K-Gen\\AppData\\Local\\Programs\\Python\\Python39\\lib\\site-packages\\keras\\src\\engine\\training.py:3103: UserWarning: You are saving your model as an HDF5 file via `model.save()`. This file format is considered legacy. We recommend using instead the native Keras format, e.g. `model.save('my_model.keras')`.\n",
      "  saving_api.save_model(\n"
     ]
    }
   ],
   "source": [
    "# numb_model.summary()\n",
    "# numb_model.save(\"good_model.h5\")"
   ]
  },
  {
   "cell_type": "code",
   "execution_count": null,
   "metadata": {},
   "outputs": [
    {
     "name": "stdout",
     "output_type": "stream",
     "text": [
      "Number: 0, Perceptron: 0 Actual: 0\n",
      "Number: 1, Perceptron: 1 Actual: 1\n",
      "Number: 1, Perceptron: 1 Actual: 1\n",
      "Number: 0, Perceptron: 0 Actual: 1\n",
      "Number: 0, Perceptron: 0 Actual: 0\n",
      "Number: 0, Perceptron: 0 Actual: 0\n",
      "Number: 0, Perceptron: 0 Actual: 0\n",
      "Number: 0, Perceptron: 0 Actual: 0\n",
      "Number: 0, Perceptron: 0 Actual: 0\n",
      "Number: 0, Perceptron: 0 Actual: 0\n",
      "Number: 0, Perceptron: 0 Actual: 0\n",
      "Number: 0, Perceptron: 0 Actual: 0\n",
      "Number: 0, Perceptron: 0 Actual: 0\n",
      "Number: 1, Perceptron: 1 Actual: 1\n",
      "Number: 0, Perceptron: 0 Actual: 0\n",
      "Number: 0, Perceptron: 0 Actual: 0\n",
      "Number: 0, Perceptron: 0 Actual: 0\n",
      "Number: 0, Perceptron: 0 Actual: 0\n",
      "Number: 0, Perceptron: 0 Actual: 0\n",
      "Number: 0, Perceptron: 0 Actual: 0\n",
      "Number: 0, Perceptron: 0 Actual: 0\n",
      "Number: 0, Perceptron: 0 Actual: 0\n",
      "Number: 0, Perceptron: 0 Actual: 0\n",
      "Number: 0, Perceptron: 0 Actual: 0\n",
      "Number: 1, Perceptron: 1 Actual: 1\n",
      "Number: 0, Perceptron: 1 Actual: 0\n",
      "Number: 0, Perceptron: 0 Actual: 0\n"
     ]
    }
   ],
   "source": [
    "for numb, percep, actual in zip(y_pred_numb_binary_flat, percepPredict, y_N_test):\n",
    "    print(f\"Number: {numb}, Perceptron: {percep} Actual: {actual}\")"
   ]
  },
  {
   "cell_type": "code",
   "execution_count": null,
   "metadata": {},
   "outputs": [
    {
     "name": "stdout",
     "output_type": "stream",
     "text": [
      "1/1 [==============================] - 0s 24ms/step - loss: 108.8563 - accuracy: 0.9630\n",
      "0.9629629850387573\n"
     ]
    }
   ],
   "source": [
    "print(numb_model.evaluate(X_N_test,y_N_test)[1])\n",
    "#numb_model.save(\"haldmodel.h5\")"
   ]
  },
  {
   "cell_type": "code",
   "execution_count": null,
   "metadata": {},
   "outputs": [
    {
     "data": {
      "text/plain": [
       "[<matplotlib.lines.Line2D at 0x1d3694f7040>]"
      ]
     },
     "execution_count": 50,
     "metadata": {},
     "output_type": "execute_result"
    },
    {
     "data": {
      "image/png": "[encoded data removed]",
      "text/plain": [
       "<Figure size 640x480 with 1 Axes>"
      ]
     },
     "metadata": {},
     "output_type": "display_data"
    }
   ],
   "source": [
    "plt.plot(history.history['loss'])\n",
    "plt.plot(history.history['val_loss'])"
   ]
  },
  {
   "cell_type": "code",
   "execution_count": null,
   "metadata": {},
   "outputs": [
    {
     "data": {
      "text/plain": [
       "[<matplotlib.lines.Line2D at 0x1d369464c40>]"
      ]
     },
     "execution_count": 47,
     "metadata": {},
     "output_type": "execute_result"
    },
    {
     "data": {
      "image/png": "[encoded data removed]",
      "text/plain": [
       "<Figure size 640x480 with 1 Axes>"
      ]
     },
     "metadata": {},
     "output_type": "display_data"
    }
   ],
   "source": [
    "plt.plot(history.history['accuracy'])\n",
    "plt.plot(history.history['val_accuracy'])"
   ]
  }
 ],
 "metadata": {
  "kernelspec": {
   "display_name": "Python 3",
   "language": "python",
   "name": "python3"
  },
  "language_info": {
   "codemirror_mode": {
    "name": "ipython",
    "version": 3
   },
   "file_extension": ".py",
   "mimetype": "text/x-python",
   "name": "python",
   "nbconvert_exporter": "python",
   "pygments_lexer": "ipython3",
   "version": "3.11.2"
  }
 },
 "nbformat": 4,
 "nbformat_minor": 2
}
